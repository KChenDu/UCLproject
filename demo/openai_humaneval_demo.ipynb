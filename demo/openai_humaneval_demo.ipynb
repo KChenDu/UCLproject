{
 "cells": [
  {
   "metadata": {},
   "cell_type": "markdown",
   "source": [
    "# Dataset Card for OpenAI HumanEval\n",
    "## Dataset Summary\n",
    "The HumanEval dataset released by OpenAI includes 164 programming problems with a function sig- nature, docstring, body, and several unit tests. They were handwritten to ensure not to be included in the training set of code generation models.\n",
    "## Supported Tasks and Leaderboards\n",
    "### Languages\n",
    "The programming problems are written in Python and contain English natural text in comments and docstrings.\n",
    "## Dataset Structure"
   ],
   "id": "d316ee94c4cb10ed"
  },
  {
   "cell_type": "code",
   "id": "initial_id",
   "metadata": {
    "collapsed": true,
    "ExecuteTime": {
     "end_time": "2024-04-17T05:22:07.701557Z",
     "start_time": "2024-04-17T05:22:04.294626Z"
    }
   },
   "source": [
    "from datasets import load_dataset\n",
    "\n",
    "\n",
    "load_dataset(\"openai_humaneval\")"
   ],
   "outputs": [
    {
     "data": {
      "text/plain": [
       "DatasetDict({\n",
       "    test: Dataset({\n",
       "        features: ['task_id', 'prompt', 'canonical_solution', 'test', 'entry_point'],\n",
       "        num_rows: 164\n",
       "    })\n",
       "})"
      ]
     },
     "execution_count": 2,
     "metadata": {},
     "output_type": "execute_result"
    }
   ],
   "execution_count": 2
  },
  {
   "metadata": {},
   "cell_type": "markdown",
   "source": [
    "## Data Fields\n",
    "- `task_id`: identifier for the data sample\n",
    "- `prompt`: input for the model containing function header and docstrings\n",
    "- `canonical_solution`: solution for the problem in the prompt\n",
    "- `test`: contains function to test generated code for correctness\n",
    "- `entry_point`: entry point for test\n",
    "## Data Splits\n",
    "The dataset only consists of a test split with 164 samples.\n",
    "## Citation Information\n",
    "```bibtex\n",
    "@misc{chen2021evaluating,\n",
    "      title={Evaluating Large Language Models Trained on Code},\n",
    "      author={Mark Chen and Jerry Tworek and Heewoo Jun and Qiming Yuan and Henrique Ponde de Oliveira Pinto and Jared Kaplan and Harri Edwards and Yuri Burda and Nicholas Joseph and Greg Brockman and Alex Ray and Raul Puri and Gretchen Krueger and Michael Petrov and Heidy Khlaaf and Girish Sastry and Pamela Mishkin and Brooke Chan and Scott Gray and Nick Ryder and Mikhail Pavlov and Alethea Power and Lukasz Kaiser and Mohammad Bavarian and Clemens Winter and Philippe Tillet and Felipe Petroski Such and Dave Cummings and Matthias Plappert and Fotios Chantzis and Elizabeth Barnes and Ariel Herbert-Voss and William Hebgen Guss and Alex Nichol and Alex Paino and Nikolas Tezak and Jie Tang and Igor Babuschkin and Suchir Balaji and Shantanu Jain and William Saunders and Christopher Hesse and Andrew N. Carr and Jan Leike and Josh Achiam and Vedant Misra and Evan Morikawa and Alec Radford and Matthew Knight and Miles Brundage and Mira Murati and Katie Mayer and Peter Welinder and Bob McGrew and Dario Amodei and Sam McCandlish and Ilya Sutskever and Wojciech Zaremba},\n",
    "      year={2021},\n",
    "      eprint={2107.03374},\n",
    "      archivePrefix={arXiv},\n",
    "      primaryClass={cs.LG}\n",
    "}\n",
    "```"
   ],
   "id": "bccadfdae8e453ab"
  }
 ],
 "metadata": {
  "kernelspec": {
   "display_name": "Python 3",
   "language": "python",
   "name": "python3"
  },
  "language_info": {
   "codemirror_mode": {
    "name": "ipython",
    "version": 2
   },
   "file_extension": ".py",
   "mimetype": "text/x-python",
   "name": "python",
   "nbconvert_exporter": "python",
   "pygments_lexer": "ipython2",
   "version": "2.7.6"
  }
 },
 "nbformat": 4,
 "nbformat_minor": 5
}
