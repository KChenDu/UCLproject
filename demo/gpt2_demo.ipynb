{
 "cells": [
  {
   "cell_type": "markdown",
   "source": [
    "# GPT-2\n",
    "Test the whole generation capabilities here: https://transformer.huggingface.co/doc/gpt2-large\n",
    "\n",
    "Pretrained model on English language using a causal language modeling (CLM) objective. It was introduced in [this paper](https://d4mucfpksywv.cloudfront.net/better-language-models/language_models_are_unsupervised_multitask_learners.pdf) and first released at [this page](https://openai.com/research/better-language-models).\n",
    "\n",
    "Disclaimer: The team releasing GPT-2 also wrote a [model card](https://github.com/openai/gpt-2/blob/master/model_card.md) for their model. Content from this model card has been written by the Hugging Face team to complete the information they provided and give specific examples of bias.\n",
    "## Model description\n",
    "GPT-2 is a transformers model pretrained on a very large corpus of English data in a self-supervised fashion. This means it was pretrained on the raw texts only, with no humans labelling them in any way (which is why it can use lots of publicly available data) with an automatic process to generate inputs and labels from those texts. More precisely, it was trained to guess the next word in sentences.\n",
    "\n",
    "More precisely, inputs are sequences of continuous text of a certain length and the targets are the same sequence, shifted one token (word or piece of word) to the right. The model uses internally a mask-mechanism to make sure the predictions for the token i only uses the inputs from 1 to i but not the future tokens.\n",
    "\n",
    "This way, the model learns an inner representation of the English language that can then be used to extract features useful for downstream tasks. The model is best at what it was pretrained for however, which is generating texts from a prompt.\n",
    "\n",
    "This is the smallest version of GPT-2, with 124M parameters.\n",
    "\n",
    "Related Models: [GPT-Large](https://huggingface.co/openai-community/gpt2-large), [GPT-Medium](https://huggingface.co/openai-community/gpt2-medium) and [GPT-XL](https://huggingface.co/openai-community/gpt2-xl)\n",
    "## Intended uses & limitations\n",
    "You can use the raw model for text generation or fine-tune it to a downstream task. See the [model hub](https://huggingface.co/models?other=gpt2) to look for fine-tuned versions on a task that interests you.\n",
    "## How to use\n",
    "You can use this model directly with a pipeline for text generation. Since the generation relies on some randomness, we set a seed for reproducibility:"
   ],
   "metadata": {
    "collapsed": false
   },
   "id": "c0add8d367154a3a"
  },
  {
   "cell_type": "code",
   "execution_count": 1,
   "id": "initial_id",
   "metadata": {
    "collapsed": true,
    "ExecuteTime": {
     "end_time": "2024-04-04T15:42:05.737392Z",
     "start_time": "2024-04-04T15:42:01.779130Z"
    }
   },
   "outputs": [
    {
     "name": "stderr",
     "output_type": "stream",
     "text": [
      "Truncation was not explicitly activated but `max_length` is provided a specific value, please use `truncation=True` to explicitly truncate examples to max length. Defaulting to 'longest_first' truncation strategy. If you encode pairs of sequences (GLUE-style) with the tokenizer you can select this strategy more precisely by providing a specific strategy to `truncation`.\n",
      "Setting `pad_token_id` to `eos_token_id`:50256 for open-end generation.\n"
     ]
    },
    {
     "name": "stdout",
     "output_type": "stream",
     "text": [
      "[{'generated_text': \"Hello, I'm a language model, but what I'm really doing is making a human-readable document. There are other languages, but those are\"}, {'generated_text': \"Hello, I'm a language model, not a syntax model. That's why I like it. I've done a lot of programming projects.\\n\"}, {'generated_text': \"Hello, I'm a language model, and I'll do it in no time!\\n\\nOne of the things we learned from talking to my friend\"}, {'generated_text': \"Hello, I'm a language model, not a command line tool.\\n\\nIf my code is simple enough:\\n\\nif (use (string\"}, {'generated_text': \"Hello, I'm a language model, I've been using Language in all my work. Just a small example, let's see a simplified example.\"}]\n"
     ]
    }
   ],
   "source": [
    "from transformers import pipeline, set_seed, GPT2Tokenizer, GPT2Model\n",
    "\n",
    "\n",
    "generator = pipeline('text-generation', 'gpt2')\n",
    "set_seed(42)\n",
    "print(generator(\"Hello, I'm a language model,\", max_length=30, num_return_sequences=5))"
   ]
  },
  {
   "cell_type": "markdown",
   "source": [
    "Here is how to use this model to get the features of a given text in PyTorch:"
   ],
   "metadata": {
    "collapsed": false
   },
   "id": "8ac5d146ddabe083"
  },
  {
   "cell_type": "code",
   "outputs": [],
   "source": [
    "tokenizer = GPT2Tokenizer.from_pretrained('gpt2')\n",
    "model = GPT2Model.from_pretrained('gpt2')\n",
    "text = \"Replace me by any text you'd like.\"\n",
    "encoded_input = tokenizer(text, return_tensors='pt')\n",
    "output = model(**encoded_input)"
   ],
   "metadata": {
    "collapsed": false,
    "ExecuteTime": {
     "end_time": "2024-04-04T15:42:06.369090Z",
     "start_time": "2024-04-04T15:42:05.738399Z"
    }
   },
   "id": "cd996fba543b9a4c",
   "execution_count": 2
  },
  {
   "cell_type": "markdown",
   "source": [
    "## Limitations and bias\n",
    "The training data used for this model has not been released as a dataset one can browse. We know it contains a lot of unfiltered content from the internet, which is far from neutral. As the openAI team themselves point out in their [model card](https://github.com/openai/gpt-2/blob/master/model_card.md#out-of-scope-use-cases):\n",
    "> \"Because large-scale language models like GPT-2 do not distinguish fact from fiction, we don’t support use-cases that require the generated text to be true.\n",
    "Additionally, language models like GPT-2 reflect the biases inherent to the systems they were trained on, so we do not recommend that they be deployed into systems that interact with humans > unless the deployers first carry out a study of biases relevant to the intended use-case. We found no statistically significant difference in gender, race, and religious bias probes between 774M and 1.5B, implying all versions of GPT-2 should be approached with similar levels of caution around use cases that are sensitive to biases around human attributes.\"\n",
    "\n",
    "Here's an example of how the model can have biased predictions:"
   ],
   "metadata": {
    "collapsed": false
   },
   "id": "5737b2b3e46df35c"
  },
  {
   "cell_type": "code",
   "outputs": [
    {
     "name": "stderr",
     "output_type": "stream",
     "text": [
      "Setting `pad_token_id` to `eos_token_id`:50256 for open-end generation.\n"
     ]
    },
    {
     "data": {
      "text/plain": "[{'generated_text': 'The White man worked as a \"parliamentary'},\n {'generated_text': 'The White man worked as a carpenter. \"'},\n {'generated_text': 'The White man worked as a mechanic after he moved'},\n {'generated_text': 'The White man worked as a lawyer and was close'},\n {'generated_text': 'The White man worked as a security guard, though'}]"
     },
     "execution_count": 3,
     "metadata": {},
     "output_type": "execute_result"
    }
   ],
   "source": [
    "generator(\"The White man worked as a\", max_length=10, num_return_sequences=5)"
   ],
   "metadata": {
    "collapsed": false,
    "ExecuteTime": {
     "end_time": "2024-04-04T15:42:06.542234Z",
     "start_time": "2024-04-04T15:42:06.370121Z"
    }
   },
   "id": "cd475a5d00887468",
   "execution_count": 3
  },
  {
   "cell_type": "code",
   "outputs": [
    {
     "name": "stderr",
     "output_type": "stream",
     "text": [
      "Setting `pad_token_id` to `eos_token_id`:50256 for open-end generation.\n"
     ]
    },
    {
     "data": {
      "text/plain": "[{'generated_text': 'The Black man worked as a waiter but lost his'},\n {'generated_text': 'The Black man worked as a butcher in the city'},\n {'generated_text': 'The Black man worked as a taxi service in the'},\n {'generated_text': 'The Black man worked as a \"white supremacist\"'},\n {'generated_text': 'The Black man worked as a waitress in a store'}]"
     },
     "execution_count": 4,
     "metadata": {},
     "output_type": "execute_result"
    }
   ],
   "source": [
    "generator(\"The Black man worked as a\", max_length=10, num_return_sequences=5)"
   ],
   "metadata": {
    "collapsed": false,
    "ExecuteTime": {
     "end_time": "2024-04-04T15:42:06.713589Z",
     "start_time": "2024-04-04T15:42:06.543248Z"
    }
   },
   "id": "5092d4512b2905f1",
   "execution_count": 4
  },
  {
   "cell_type": "markdown",
   "source": [
    "This bias will also affect all fine-tuned versions of this model.\n",
    "## Training procedure\n",
    "The texts are tokenized using a byte-level version of Byte Pair Encoding (BPE) (for unicode characters) and a vocabulary size of 50,257. The inputs are sequences of 1024 consecutive tokens.\n",
    "\n",
    "The larger model was trained on 256 cloud TPU v3 cores. The training duration was not disclosed, nor were the exact details of training.\n",
    "## BibTeX entry and citation info\n",
    "```bibtex\n",
    "@article{radford2019language,\n",
    "  title={Language Models are Unsupervised Multitask Learners},\n",
    "  author={Radford, Alec and Wu, Jeff and Child, Rewon and Luan, David and Amodei, Dario and Sutskever, Ilya},\n",
    "  year={2019}\n",
    "}\n",
    "```"
   ],
   "metadata": {
    "collapsed": false
   },
   "id": "fbe541014672e1e7"
  }
 ],
 "metadata": {
  "kernelspec": {
   "display_name": "Python 3",
   "language": "python",
   "name": "python3"
  },
  "language_info": {
   "codemirror_mode": {
    "name": "ipython",
    "version": 2
   },
   "file_extension": ".py",
   "mimetype": "text/x-python",
   "name": "python",
   "nbconvert_exporter": "python",
   "pygments_lexer": "ipython2",
   "version": "2.7.6"
  }
 },
 "nbformat": 4,
 "nbformat_minor": 5
}
