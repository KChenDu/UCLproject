{
 "cells": [
  {
   "metadata": {},
   "cell_type": "markdown",
   "source": [
    "# HumanEval-X\n",
    "## Dataset Description\n",
    "[HumanEval-X](https://github.com/THUDM/CodeGeeX) is a benchmark for evaluating the multilingual ability of code generative models. It consists of 820 high-quality human-crafted data samples (each with test cases) in Python, C++, Java, JavaScript, and Go, and can be used for various tasks, such as code generation and translation.\n",
    "## Languages\n",
    "The dataset contains coding problems in 5 programming languages: Python, C++, Java, JavaScript, and Go.\n",
    "## Dataset Structure\n",
    "To load the dataset you need to specify a subset among the 5 exiting languages `[python, cpp, go, java, js]`. By default python is loaded."
   ],
   "id": "736459d3e19bd473"
  },
  {
   "metadata": {
    "ExecuteTime": {
     "end_time": "2024-04-17T19:48:16.612205Z",
     "start_time": "2024-04-17T19:48:12.302668Z"
    }
   },
   "cell_type": "code",
   "source": [
    "from datasets import load_dataset\n",
    "\n",
    "\n",
    "data = load_dataset(\"THUDM/humaneval-x\", \"js\")"
   ],
   "id": "bd862ae5c3b0b341",
   "outputs": [
    {
     "data": {
      "text/plain": [
       "DatasetDict({\n",
       "    test: Dataset({\n",
       "        features: ['task_id', 'prompt', 'declaration', 'canonical_solution', 'test', 'example_test'],\n",
       "        num_rows: 164\n",
       "    })\n",
       "})"
      ]
     },
     "execution_count": 1,
     "metadata": {},
     "output_type": "execute_result"
    }
   ],
   "execution_count": 1
  },
  {
   "metadata": {
    "ExecuteTime": {
     "end_time": "2024-04-17T05:08:03.170716Z",
     "start_time": "2024-04-17T05:08:03.166216Z"
    }
   },
   "cell_type": "code",
   "source": "next(iter(data[\"test\"]))",
   "id": "b10787c8e542b8fe",
   "outputs": [
    {
     "data": {
      "text/plain": [
       "{'task_id': 'JavaScript/0',\n",
       " 'prompt': '/* Check if in given list of numbers, are any two numbers closer to each other than\\n  given threshold.\\n  >>> hasCloseElements([1.0, 2.0, 3.0], 0.5)\\n  false\\n  >>> hasCloseElements([1.0, 2.8, 3.0, 4.0, 5.0, 2.0], 0.3)\\n  true\\n  */\\nconst hasCloseElements = (numbers, threshold) => {\\n',\n",
       " 'declaration': '\\nconst hasCloseElements = (numbers, threshold) => {\\n',\n",
       " 'canonical_solution': '  for (let i = 0; i < numbers.length; i++) {\\n    for (let j = 0; j < numbers.length; j++) {\\n      if (i != j) {\\n        let distance = Math.abs(numbers[i] - numbers[j]);\\n        if (distance < threshold) {\\n          return true;\\n        }\\n      }\\n    }\\n  }\\n  return false;\\n}\\n\\n',\n",
       " 'test': 'const testHasCloseElements = () => {\\n  console.assert(hasCloseElements([1.0, 2.0, 3.9, 4.0, 5.0, 2.2], 0.3) === true)\\n  console.assert(\\n    hasCloseElements([1.0, 2.0, 3.9, 4.0, 5.0, 2.2], 0.05) === false\\n  )\\n  console.assert(hasCloseElements([1.0, 2.0, 5.9, 4.0, 5.0], 0.95) === true)\\n  console.assert(hasCloseElements([1.0, 2.0, 5.9, 4.0, 5.0], 0.8) === false)\\n  console.assert(hasCloseElements([1.0, 2.0, 3.0, 4.0, 5.0, 2.0], 0.1) === true)\\n  console.assert(hasCloseElements([1.1, 2.2, 3.1, 4.1, 5.1], 1.0) === true)\\n  console.assert(hasCloseElements([1.1, 2.2, 3.1, 4.1, 5.1], 0.5) === false)\\n}\\n\\ntestHasCloseElements()\\n',\n",
       " 'example_test': 'const testHasCloseElements = () => {\\n  console.assert(hasCloseElements([1.0, 2.0, 3.0], 0.5) === false)\\n  console.assert(\\n    hasCloseElements([1.0, 2.8, 3.0, 4.0, 5.0, 2.0], 0.3) === true\\n  )\\n}\\ntestHasCloseElements()\\n'}"
      ]
     },
     "execution_count": 2,
     "metadata": {},
     "output_type": "execute_result"
    }
   ],
   "execution_count": 2
  },
  {
   "metadata": {},
   "cell_type": "markdown",
   "source": [
    "## Data Fields\n",
    "- `task_id`: indicates the target language and ID of the problem. Language is one of [\"Python\", \"Java\", \"JavaScript\", \"CPP\", \"Go\"].\n",
    "- `prompt`: the function declaration and docstring, used for code generation.\n",
    "- `declaration`: only the function declaration, used for code translation.\n",
    "- `canonical_solution`: human-crafted example solutions.\n",
    "- `test`: hidden test samples, used for evaluation.\n",
    "- `example_test`: public test samples (appeared in prompt), used for evaluation.\n",
    "## Data Splits\n",
    "Each subset has one split: test.\n",
    "## Citation Information\n",
    "Refer to https://github.com/THUDM/CodeGeeX."
   ],
   "id": "1faf85f62115b6c0"
  }
 ],
 "metadata": {
  "kernelspec": {
   "display_name": "Python 3",
   "language": "python",
   "name": "python3"
  },
  "language_info": {
   "codemirror_mode": {
    "name": "ipython",
    "version": 2
   },
   "file_extension": ".py",
   "mimetype": "text/x-python",
   "name": "python",
   "nbconvert_exporter": "python",
   "pygments_lexer": "ipython2",
   "version": "2.7.6"
  }
 },
 "nbformat": 4,
 "nbformat_minor": 5
}
