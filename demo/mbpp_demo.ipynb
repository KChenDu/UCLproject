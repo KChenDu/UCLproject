{
 "cells": [
  {
   "metadata": {},
   "cell_type": "markdown",
   "source": [
    "# Dataset Card for Mostly Basic Python Problems (mbpp)\n",
    "## Dataset Summary\n",
    "The benchmark consists of around 1,000 crowd-sourced Python programming problems, designed to be solvable by entry level programmers, covering programming fundamentals, standard library functionality, and so on. Each problem consists of a task description, code solution and 3 automated test cases. As described in the paper, a subset of the data has been hand-verified by us.\n",
    "\n",
    "Released [here](https://github.com/google-research/google-research/tree/master/mbpp) as part of [Program Synthesis with Large Language Models, Austin et. al., 2021](https://arxiv.org/abs/2108.07732).\n",
    "## Supported Tasks and Leaderboards\n",
    "This dataset is used to evaluate code generations.\n",
    "## Languages\n",
    "English - Python code\n",
    "## Dataset Structure"
   ],
   "id": "87e9cfea879faa01"
  },
  {
   "cell_type": "code",
   "id": "initial_id",
   "metadata": {
    "collapsed": true,
    "ExecuteTime": {
     "end_time": "2024-04-17T05:23:13.207643Z",
     "start_time": "2024-04-17T05:22:54.788748Z"
    }
   },
   "source": [
    "from datasets import load_dataset\n",
    "\n",
    "\n",
    "dataset_full = load_dataset(\"mbpp\")\n",
    "dataset_sanitized = load_dataset(\"mbpp\", \"sanitized\")"
   ],
   "outputs": [],
   "execution_count": 2
  },
  {
   "metadata": {},
   "cell_type": "markdown",
   "source": [
    "## Data Fields\n",
    "- `source_file`: unknown\n",
    "- `text/prompt`: description of programming task\n",
    "- `code`: solution for programming task\n",
    "- `test_setup_code/test_imports`: necessary code imports to execute tests\n",
    "- `test_list`: list of tests to verify solution\n",
    "- `challenge_test_list`: list of more challenging test to further probe solution\n",
    "## Data Splits\n",
    "There are two version of the dataset (full and sanitized), each with four splits:\n",
    "- train\n",
    "- evaluation\n",
    "- test\n",
    "- prompt\n",
    "\n",
    "The `prompt` split corresponds to samples used for few-shot prompting and not for training.\n",
    "## Citation Information\n",
    "```bibtex\n",
    "@article{austin2021program,\n",
    "  title={Program Synthesis with Large Language Models},\n",
    "  author={Austin, Jacob and Odena, Augustus and Nye, Maxwell and Bosma, Maarten and Michalewski, Henryk and Dohan, David and Jiang, Ellen and Cai, Carrie and Terry, Michael and Le, Quoc and others},\n",
    "  journal={arXiv preprint arXiv:2108.07732},\n",
    "  year={2021}\n",
    "```"
   ],
   "id": "5a8fc265ee5800b5"
  }
 ],
 "metadata": {
  "kernelspec": {
   "display_name": "Python 3",
   "language": "python",
   "name": "python3"
  },
  "language_info": {
   "codemirror_mode": {
    "name": "ipython",
    "version": 2
   },
   "file_extension": ".py",
   "mimetype": "text/x-python",
   "name": "python",
   "nbconvert_exporter": "python",
   "pygments_lexer": "ipython2",
   "version": "2.7.6"
  }
 },
 "nbformat": 4,
 "nbformat_minor": 5
}
