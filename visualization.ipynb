{
 "cells": [
  {
   "metadata": {},
   "cell_type": "code",
   "outputs": [],
   "execution_count": null,
   "source": [
    "from os import cpu_count\n",
    "from datasets import load_dataset\n",
    "\n",
    "\n",
    "task_id2test = {}\n",
    "dataset = load_dataset(\"mbpp\", split=\"train\", num_proc=cpu_count())\n",
    "\n",
    "for data in dataset:\n",
    "    task_id = data['task_id']\n",
    "    data.pop('task_id')\n",
    "    task_id2test[task_id] = data"
   ],
   "id": "550bd737cf6d1a1a"
  },
  {
   "cell_type": "code",
   "id": "initial_id",
   "metadata": {
    "collapsed": true,
    "ExecuteTime": {
     "end_time": "2024-07-20T16:47:22.940385Z",
     "start_time": "2024-07-20T16:47:22.890424Z"
    }
   },
   "source": [
    "from json import loads\n",
    "\n",
    "\n",
    "cnt = 0\n",
    "\n",
    "with open('MBPP(Python)_nucleus92_3attempts.jsonl', 'r') as file:\n",
    "    for line in file:\n",
    "        data = loads(line)\n",
    "        if data['compilable'] and data['attempt'] == 0:\n",
    "            cnt += 1\n",
    "\n",
    "print(cnt)"
   ],
   "outputs": [
    {
     "name": "stdout",
     "output_type": "stream",
     "text": [
      "5597\n"
     ]
    }
   ],
   "execution_count": 2
  },
  {
   "metadata": {
    "ExecuteTime": {
     "end_time": "2024-07-20T16:54:01.247496Z",
     "start_time": "2024-07-20T16:54:01.197031Z"
    }
   },
   "cell_type": "code",
   "source": [
    "cnt = 0\n",
    "\n",
    "with open('MBPP(Python)_nucleus92_3attempts.jsonl', 'r') as file:\n",
    "    for line in file:\n",
    "        data = loads(line)\n",
    "        if data['compilable']:\n",
    "            cnt += 1\n",
    "\n",
    "print(cnt)"
   ],
   "id": "ae47a6c9af39a8b2",
   "outputs": [
    {
     "name": "stdout",
     "output_type": "stream",
     "text": [
      "6833\n"
     ]
    }
   ],
   "execution_count": 3
  },
  {
   "metadata": {
    "ExecuteTime": {
     "end_time": "2024-07-20T17:05:56.913375Z",
     "start_time": "2024-07-20T17:05:56.882528Z"
    }
   },
   "cell_type": "code",
   "source": [
    "cnt = 0\n",
    "\n",
    "with open('MBPP(Python)_nucleus92_3attempts_compilable.jsonl', 'r') as file:\n",
    "    for line in file:\n",
    "        data = loads(line)\n",
    "        if data['pass']:\n",
    "            cnt += 1\n",
    "\n",
    "print(cnt)"
   ],
   "id": "93d668c318ec0b44",
   "outputs": [
    {
     "name": "stdout",
     "output_type": "stream",
     "text": [
      "2552\n"
     ]
    }
   ],
   "execution_count": 4
  }
 ],
 "metadata": {
  "kernelspec": {
   "display_name": "Python 3",
   "language": "python",
   "name": "python3"
  },
  "language_info": {
   "codemirror_mode": {
    "name": "ipython",
    "version": 2
   },
   "file_extension": ".py",
   "mimetype": "text/x-python",
   "name": "python",
   "nbconvert_exporter": "python",
   "pygments_lexer": "ipython2",
   "version": "2.7.6"
  }
 },
 "nbformat": 4,
 "nbformat_minor": 5
}
