{
 "cells": [
  {
   "cell_type": "markdown",
   "id": "85574c312fc59a5d",
   "metadata": {
    "collapsed": false
   },
   "source": [
    "1. **Introduction of Deepseek Coder**\n",
    "    \n",
    "    **Deepseek Coder** is composed of a series of code language models, each trained from scratch on 2T tokens, with a composition of 87% code and 13% natural language in both English and Chinese. We provide various sizes of the code model, ranging from 1B to 33B versions. Each model is pre-trained on project-level code corpus by employing a window size of 16K and a extra fill-in-the-blank task, to support project-level code completion and infilling. For coding capabilities, Deepseek Coder achieves state-of-the-art performance among open-source code models on multiple programming languages and various benchmarks.\n",
    "    - Massive Training Data: Trained from scratch on 2T tokens, including 87% code and 13% linguistic data in both English and Chinese languages.\n",
    "    - **Highly Flexible & Scalable**: Offered in model sizes of 1.3B, 5.7B, 6.7B, and 33B, enabling users to choose the setup most suitable for their requirements.\n",
    "    - **Superior Model Performance**: State-of-the-art performance among publicly available code models on HumanEval, MultiPL-E, MBPP, DS-1000, and APPS benchmarks.\n",
    "    - **Advanced Code Completion Capabilities**: A window size of 16K and a fill-in-the-blank task, supporting project-level code completion and infilling tasks.\n",
    "2. **Model Summary**\n",
    "    \n",
    "    deepseek-coder-1.3b-base is a 1.3B parameter model with Multi-Head Attention trained on 1 trillion tokens.\n",
    "    - **Home Page**: [DeepSeek](https://www.deepseek.com)\n",
    "    - **Repository**: [deepseek-ai/deepseek-coder](https://github.com/deepseek-ai/deepseek-coder)\n",
    "    - **Chat With DeepSeek Coder**: [DeepSeek-Coder](https://chat.deepseek.com/sign_in?from=coder)\n",
    "3. **How to Use**\n",
    "    \n",
    "    Here give some examples of how to use our model.\n",
    "    1) Code Completion"
   ]
  },
  {
   "cell_type": "code",
   "execution_count": 1,
   "id": "initial_id",
   "metadata": {
    "ExecuteTime": {
     "end_time": "2024-04-04T17:25:25.639424Z",
     "start_time": "2024-04-04T17:24:06.782233Z"
    },
    "collapsed": true
   },
   "outputs": [
    {
     "name": "stderr",
     "output_type": "stream",
     "text": [
      "Special tokens have been added in the vocabulary, make sure the associated word embeddings are fine-tuned or trained.\n",
      "Setting `pad_token_id` to `eos_token_id`:32014 for open-end generation.\n",
      "C:\\Users\\kelve\\anaconda3\\envs\\UCLproject\\Lib\\site-packages\\transformers\\models\\llama\\modeling_llama.py:728: UserWarning: 1Torch was not compiled with flash attention. (Triggered internally at C:\\cb\\pytorch_1000000000000\\work\\aten\\src\\ATen\\native\\transformers\\cuda\\sdp_utils.cpp:263.)\n",
      "  attn_output = torch.nn.functional.scaled_dot_product_attention(\n"
     ]
    },
    {
     "name": "stdout",
     "output_type": "stream",
     "text": [
      "#write a quick sort algorithm\n",
      "\n",
      "def quick_sort(arr):\n",
      "    if len(arr) <= 1:\n",
      "        return arr\n",
      "    else:\n",
      "        pivot = arr[0]\n",
      "        less = [i for i in arr[1:] if i <= pivot]\n",
      "        greater = [i for i in arr[1:] if i > pivot]\n",
      "        return quick_sort(less) + [pivot] + quick_sort(greater)\n",
      "\n",
      "print(quick_sort([10, 5, 2, 3]))\n"
     ]
    }
   ],
   "source": [
    "from transformers import AutoTokenizer, AutoModelForCausalLM\n",
    "\n",
    "\n",
    "tokenizer = AutoTokenizer.from_pretrained(\"deepseek-ai/deepseek-coder-1.3b-base\", trust_remote_code=True)\n",
    "model = AutoModelForCausalLM.from_pretrained(\"deepseek-ai/deepseek-coder-1.3b-base\", trust_remote_code=True).cuda()\n",
    "input_text = \"#write a quick sort algorithm\"\n",
    "inputs = tokenizer(input_text, return_tensors=\"pt\").to(model.device)\n",
    "outputs = model.generate(**inputs, max_length=128)\n",
    "print(tokenizer.decode(outputs[0], skip_special_tokens=True))"
   ]
  },
  {
   "cell_type": "markdown",
   "id": "66d89a96ba547859",
   "metadata": {
    "collapsed": false
   },
   "source": [
    "2) **Code Insertion**"
   ]
  },
  {
   "cell_type": "code",
   "execution_count": 2,
   "id": "1536148e94666c86",
   "metadata": {
    "ExecuteTime": {
     "end_time": "2024-04-04T17:25:34.924660Z",
     "start_time": "2024-04-04T17:25:25.653428Z"
    },
    "collapsed": false
   },
   "outputs": [
    {
     "name": "stderr",
     "output_type": "stream",
     "text": [
      "Setting `pad_token_id` to `eos_token_id`:32014 for open-end generation.\n"
     ]
    },
    {
     "name": "stdout",
     "output_type": "stream",
     "text": [
      "    for i in range(1, len(arr)):\n"
     ]
    }
   ],
   "source": [
    "input_text = \"\"\"<｜fim▁begin｜>def quick_sort(arr):\n",
    "    if len(arr) <= 1:\n",
    "        return arr\n",
    "    pivot = arr[0]\n",
    "    left = []\n",
    "    right = []\n",
    "<｜fim▁hole｜>\n",
    "        if arr[i] < pivot:\n",
    "            left.append(arr[i])\n",
    "        else:\n",
    "            right.append(arr[i])\n",
    "    return quick_sort(left) + [pivot] + quick_sort(right)<｜fim▁end｜>\"\"\"\n",
    "inputs = tokenizer(input_text, return_tensors=\"pt\").to(model.device)\n",
    "outputs = model.generate(**inputs, max_length=128)\n",
    "print(tokenizer.decode(outputs[0], skip_special_tokens=True)[len(input_text):])"
   ]
  },
  {
   "cell_type": "markdown",
   "id": "2f9cd02343694a10",
   "metadata": {
    "collapsed": false
   },
   "source": [
    "3) **Repository Level Code Completion**"
   ]
  },
  {
   "cell_type": "code",
   "execution_count": 3,
   "id": "9bd31e8c71763727",
   "metadata": {
    "ExecuteTime": {
     "end_time": "2024-04-04T17:28:07.902612Z",
     "start_time": "2024-04-04T17:25:34.926728Z"
    },
    "collapsed": false
   },
   "outputs": [
    {
     "name": "stderr",
     "output_type": "stream",
     "text": [
      "Setting `pad_token_id` to `eos_token_id`:32014 for open-end generation.\n"
     ]
    },
    {
     "name": "stdout",
     "output_type": "stream",
     "text": [
      "<｜begin▁of▁sentence｜>#utils.py\n",
      "import torch\n",
      "from sklearn import datasets\n",
      "from sklearn.model_selection import train_test_split\n",
      "from sklearn.preprocessing import StandardScaler\n",
      "from sklearn.metrics import accuracy_score\n",
      "\n",
      "def load_data():\n",
      "    iris = datasets.load_iris()\n",
      "    X = iris.data\n",
      "    y = iris.target\n",
      "\n",
      "    # Standardize the data\n",
      "    scaler = StandardScaler()\n",
      "    X = scaler.fit_transform(X)\n",
      "\n",
      "    X_train, X_test, y_train, y_test = train_test_split(X, y, test_size=0.3, random_state=42)\n",
      "\n",
      "    # Convert numpy data to PyTorch tensors\n",
      "    X_train = torch.tensor(X_train, dtype=torch.float32)\n",
      "    X_test = torch.tensor(X_test, dtype=torch.float32)\n",
      "    y_train = torch.tensor(y_train, dtype=torch.int64)\n",
      "    y_test = torch.tensor(y_test, dtype=torch.int64)\n",
      "    \n",
      "    return X_train, X_test, y_train, y_test\n",
      "\n",
      "def evaluate_predictions(y_test, y_pred):\n",
      "    return accuracy_score(y_test, y_pred)\n",
      "#model.py\n",
      "import torch\n",
      "import torch.nn as nn\n",
      "import torch.optim as optim\n",
      "from torch.utils.data import DataLoader, TensorDataset\n",
      "\n",
      "class IrisClassifier(nn.Module):\n",
      "    def __init__(self):\n",
      "        super(IrisClassifier, self).__init__()\n",
      "        self.fc = nn.Sequential(\n",
      "            nn.Linear(4, 16),\n",
      "            nn.ReLU(),\n",
      "            nn.Linear(16, 3)\n",
      "        )\n",
      "\n",
      "    def forward(self, x):\n",
      "        return self.fc(x)\n",
      "\n",
      "    def train_model(self, X_train, y_train, epochs, lr, batch_size):\n",
      "        criterion = nn.CrossEntropyLoss()\n",
      "        optimizer = optim.Adam(self.parameters(), lr=lr)\n",
      "        \n",
      "        # Create DataLoader for batches\n",
      "        dataset = TensorDataset(X_train, y_train)\n",
      "        dataloader = DataLoader(dataset, batch_size=batch_size, shuffle=True)\n",
      "\n",
      "        for epoch in range(epochs):\n",
      "            for batch_X, batch_y in dataloader:\n",
      "                optimizer.zero_grad()\n",
      "                outputs = self(batch_X)\n",
      "                loss = criterion(outputs, batch_y)\n",
      "                loss.backward()\n",
      "                optimizer.step()\n",
      "\n",
      "    def predict(self, X_test):\n",
      "        with torch.no_grad():\n",
      "            outputs = self(X_test)\n",
      "            _, predicted = outputs.max(1)\n",
      "        return predicted.numpy()\n",
      "#main.py\n",
      "from utils import load_data, evaluate_predictions\n",
      "from model import IrisClassifier as Classifier\n",
      "\n",
      "def main():\n",
      "    # Model training and evaluation\n",
      "    X_train, X_test, y_train, y_test = load_data()\n",
      "    model = Classifier()\n",
      "    model.train_model(X_train, y_train, epochs=10, lr=0.01, batch_size=32)\n",
      "    y_pred = model.predict(X_test)\n",
      "    accuracy = evaluate_predictions(y_test, y_pred)\n",
      "    print(f\"Accuracy: {accuracy}\")\n",
      "\n",
      "if __name__ == \"__main__\":\n",
      "    main()<｜end▁of▁sentence｜>\n"
     ]
    }
   ],
   "source": [
    "input_text = \"\"\"#utils.py\n",
    "import torch\n",
    "from sklearn import datasets\n",
    "from sklearn.model_selection import train_test_split\n",
    "from sklearn.preprocessing import StandardScaler\n",
    "from sklearn.metrics import accuracy_score\n",
    "\n",
    "def load_data():\n",
    "    iris = datasets.load_iris()\n",
    "    X = iris.data\n",
    "    y = iris.target\n",
    "\n",
    "    # Standardize the data\n",
    "    scaler = StandardScaler()\n",
    "    X = scaler.fit_transform(X)\n",
    "\n",
    "    X_train, X_test, y_train, y_test = train_test_split(X, y, test_size=0.3, random_state=42)\n",
    "\n",
    "    # Convert numpy data to PyTorch tensors\n",
    "    X_train = torch.tensor(X_train, dtype=torch.float32)\n",
    "    X_test = torch.tensor(X_test, dtype=torch.float32)\n",
    "    y_train = torch.tensor(y_train, dtype=torch.int64)\n",
    "    y_test = torch.tensor(y_test, dtype=torch.int64)\n",
    "    \n",
    "    return X_train, X_test, y_train, y_test\n",
    "\n",
    "def evaluate_predictions(y_test, y_pred):\n",
    "    return accuracy_score(y_test, y_pred)\n",
    "#model.py\n",
    "import torch\n",
    "import torch.nn as nn\n",
    "import torch.optim as optim\n",
    "from torch.utils.data import DataLoader, TensorDataset\n",
    "\n",
    "class IrisClassifier(nn.Module):\n",
    "    def __init__(self):\n",
    "        super(IrisClassifier, self).__init__()\n",
    "        self.fc = nn.Sequential(\n",
    "            nn.Linear(4, 16),\n",
    "            nn.ReLU(),\n",
    "            nn.Linear(16, 3)\n",
    "        )\n",
    "\n",
    "    def forward(self, x):\n",
    "        return self.fc(x)\n",
    "\n",
    "    def train_model(self, X_train, y_train, epochs, lr, batch_size):\n",
    "        criterion = nn.CrossEntropyLoss()\n",
    "        optimizer = optim.Adam(self.parameters(), lr=lr)\n",
    "        \n",
    "        # Create DataLoader for batches\n",
    "        dataset = TensorDataset(X_train, y_train)\n",
    "        dataloader = DataLoader(dataset, batch_size=batch_size, shuffle=True)\n",
    "\n",
    "        for epoch in range(epochs):\n",
    "            for batch_X, batch_y in dataloader:\n",
    "                optimizer.zero_grad()\n",
    "                outputs = self(batch_X)\n",
    "                loss = criterion(outputs, batch_y)\n",
    "                loss.backward()\n",
    "                optimizer.step()\n",
    "\n",
    "    def predict(self, X_test):\n",
    "        with torch.no_grad():\n",
    "            outputs = self(X_test)\n",
    "            _, predicted = outputs.max(1)\n",
    "        return predicted.numpy()\n",
    "#main.py\n",
    "from utils import load_data, evaluate_predictions\n",
    "from model import IrisClassifier as Classifier\n",
    "\n",
    "def main():\n",
    "    # Model training and evaluation\n",
    "\"\"\"\n",
    "inputs = tokenizer(input_text, return_tensors=\"pt\").to(model.device)\n",
    "outputs = model.generate(**inputs, max_new_tokens=140)\n",
    "print(tokenizer.decode(outputs[0]))"
   ]
  },
  {
   "cell_type": "markdown",
   "id": "128c14d5bc8518fe",
   "metadata": {
    "collapsed": false
   },
   "source": [
    "## Citation\n",
    "```bibtex\n",
    "@misc{deepseek-coder,\n",
    "  author = {Daya Guo, Qihao Zhu, Dejian Yang, Zhenda Xie, Kai Dong, Wentao Zhang, Guanting Chen, Xiao Bi, Y. Wu, Y.K. Li, Fuli Luo, Yingfei Xiong, Wenfeng Liang},\n",
    "  title = {DeepSeek-Coder: When the Large Language Model Meets Programming -- The Rise of Code Intelligence},\n",
    "  journal = {CoRR},\n",
    "  volume = {abs/2401.14196},\n",
    "  year = {2024},\n",
    "  url = {https://arxiv.org/abs/2401.14196},\n",
    "}\n",
    "```"
   ]
  }
 ],
 "metadata": {
  "kernelspec": {
   "display_name": "Python 3",
   "language": "python",
   "name": "python3"
  },
  "language_info": {
   "codemirror_mode": {
    "name": "ipython",
    "version": 2
   },
   "file_extension": ".py",
   "mimetype": "text/x-python",
   "name": "python",
   "nbconvert_exporter": "python",
   "pygments_lexer": "ipython2",
   "version": "2.7.6"
  }
 },
 "nbformat": 4,
 "nbformat_minor": 5
}
