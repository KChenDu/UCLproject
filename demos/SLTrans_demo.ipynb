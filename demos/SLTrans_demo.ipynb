{
 "cells": [
  {
   "metadata": {},
   "cell_type": "markdown",
   "source": [
    "The dataset consists of source code and LLVM IR pairs generated from accepted and de-duped programming contest solutions. The dataset is divided into language configs and mode splits. The language can be one of `C`, `C++`, `D`, `Fortran`, `Go`, `Haskell`, `Nim`, `Objective-C`, `Python`, `Rust` and `Swift`, indicating the source files' languages. The mode split indicates the compilation mode, which can be wither `Size_Optimized` or `Perf_Optimized`.\n",
    "\n",
    "Once you have submitted an access request which has been approved, loading the dataset can be done as follows:"
   ],
   "id": "d5f58ad0084c76f2"
  },
  {
   "cell_type": "code",
   "id": "initial_id",
   "metadata": {
    "collapsed": true,
    "ExecuteTime": {
     "end_time": "2024-04-17T05:34:01.150533Z",
     "start_time": "2024-04-17T05:33:55.071547Z"
    }
   },
   "source": [
    "from datasets import load_dataset\n",
    "\n",
    "\n",
    "dataset = load_dataset(\"UKPLab/SLTrans\", \"C\", split=\"Size_Optimized\")"
   ],
   "outputs": [],
   "execution_count": 2
  }
 ],
 "metadata": {
  "kernelspec": {
   "display_name": "Python 3",
   "language": "python",
   "name": "python3"
  },
  "language_info": {
   "codemirror_mode": {
    "name": "ipython",
    "version": 2
   },
   "file_extension": ".py",
   "mimetype": "text/x-python",
   "name": "python",
   "nbconvert_exporter": "python",
   "pygments_lexer": "ipython2",
   "version": "2.7.6"
  }
 },
 "nbformat": 4,
 "nbformat_minor": 5
}
